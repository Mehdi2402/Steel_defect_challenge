{
 "cells": [
  {
   "cell_type": "code",
   "execution_count": 1,
   "metadata": {},
   "outputs": [
    {
     "name": "stderr",
     "output_type": "stream",
     "text": [
      "C:\\ProgramData\\Anaconda3\\lib\\site-packages\\tqdm\\std.py:668: FutureWarning: The Panel class is removed from pandas. Accessing it from the top-level namespace will also be removed in the next version\n",
      "  from pandas import Panel\n"
     ]
    }
   ],
   "source": [
    "import os\n",
    "import numpy as np\n",
    "import matplotlib.pyplot as plt\n",
    "import PIL\n",
    "from tqdm import trange , tqdm\n",
    "\n",
    "tqdm.pandas()\n",
    "\n",
    "import pandas as pd\n",
    "import cv2\n",
    "\n",
    "import torch\n",
    "from torchvision import transforms"
   ]
  },
  {
   "cell_type": "markdown",
   "metadata": {},
   "source": [
    "# Set up paths and read data"
   ]
  },
  {
   "cell_type": "code",
   "execution_count": 2,
   "metadata": {},
   "outputs": [],
   "source": [
    "data_path = os.path.abspath(os.path.join( os.getcwd(), \"..\" , 'data'))\n",
    "train_path = os.path.join( data_path ,  'train_images','train')\n",
    "test_path = os.path.join( data_path , 'train_images','val')\n",
    "\n",
    "train_path_base = os.path.join( data_path ,  'train_images')\n",
    "\n",
    "train_im_files = os.listdir(train_path)\n",
    "train_im_files = [x for x in train_im_files if 'jpg' in x]\n",
    "\n",
    "test_im_files = os.listdir(test_path)\n",
    "test_im_files = [x for x in test_im_files if 'jpg' in x]"
   ]
  },
  {
   "cell_type": "code",
   "execution_count": 3,
   "metadata": {},
   "outputs": [],
   "source": [
    "df = pd.read_csv(os.path.join(data_path , 'train.csv'))"
   ]
  },
  {
   "cell_type": "code",
   "execution_count": 4,
   "metadata": {},
   "outputs": [
    {
     "name": "stdout",
     "output_type": "stream",
     "text": [
      "<class 'pandas.core.frame.DataFrame'>\n",
      "RangeIndex: 7095 entries, 0 to 7094\n",
      "Data columns (total 3 columns):\n",
      " #   Column         Non-Null Count  Dtype \n",
      "---  ------         --------------  ----- \n",
      " 0   ImageId        7095 non-null   object\n",
      " 1   ClassId        7095 non-null   int64 \n",
      " 2   EncodedPixels  7095 non-null   object\n",
      "dtypes: int64(1), object(2)\n",
      "memory usage: 166.4+ KB\n"
     ]
    }
   ],
   "source": [
    "df.info()"
   ]
  },
  {
   "cell_type": "markdown",
   "metadata": {},
   "source": [
    "**We create \"is_defect\" target**"
   ]
  },
  {
   "cell_type": "code",
   "execution_count": 5,
   "metadata": {},
   "outputs": [],
   "source": [
    "df['is_defect'] = 1\n",
    "df.drop(columns=['EncodedPixels','ClassId'],inplace=True)\n",
    "df.drop_duplicates(inplace=True)"
   ]
  },
  {
   "cell_type": "code",
   "execution_count": 6,
   "metadata": {},
   "outputs": [
    {
     "name": "stdout",
     "output_type": "stream",
     "text": [
      "<class 'pandas.core.frame.DataFrame'>\n",
      "Int64Index: 6666 entries, 0 to 7094\n",
      "Data columns (total 2 columns):\n",
      " #   Column     Non-Null Count  Dtype \n",
      "---  ------     --------------  ----- \n",
      " 0   ImageId    6666 non-null   object\n",
      " 1   is_defect  6666 non-null   int64 \n",
      "dtypes: int64(1), object(1)\n",
      "memory usage: 156.2+ KB\n"
     ]
    }
   ],
   "source": [
    "df.info()"
   ]
  },
  {
   "cell_type": "code",
   "execution_count": 7,
   "metadata": {},
   "outputs": [],
   "source": [
    "train_im_files , test_im_files = [x for x in train_im_files if '_' not in x] , [x for x in test_im_files if '_' not in x]"
   ]
  },
  {
   "cell_type": "code",
   "execution_count": 8,
   "metadata": {},
   "outputs": [],
   "source": [
    "im_files = train_im_files + test_im_files"
   ]
  },
  {
   "cell_type": "code",
   "execution_count": 9,
   "metadata": {},
   "outputs": [],
   "source": [
    "defect_list = df.ImageId.tolist()"
   ]
  },
  {
   "cell_type": "code",
   "execution_count": 22,
   "metadata": {},
   "outputs": [],
   "source": [
    "def read_images_to_array(im_path_bone,train_list,val_list,defect_list):\n",
    "    \n",
    "    im_path_train= os.path.join(im_path_bone, 'train')\n",
    "    X1 = []\n",
    "    x1_y = []\n",
    "    for fname in tqdm(train_list):    \n",
    "        x1_y.append(1) if fname in defect_list else x1_y.append(0)\n",
    "        X1.append(np.array(PIL.Image.open(os.path.join(im_path_train,fname))))\n",
    "    X1 = np.array(X1,dtype='uint8')\n",
    "    \n",
    "    \n",
    "    im_path_val= os.path.join(im_path_bone,  'val')\n",
    "    X2 = []\n",
    "    x2_y = []\n",
    "    for fname in tqdm(val_list):\n",
    "        x2_y.append(1) if fname in defect_list else x2_y.append(0)\n",
    "        X2.append(np.array(PIL.Image.open(os.path.join(im_path_val,fname))))\n",
    "    X2 = np.array(X2,dtype='uint8')\n",
    "    \n",
    "    \n",
    "    return np.concatenate(X1 , X2) , np.array(x1_y+x2_y,dtype='uint8')"
   ]
  },
  {
   "cell_type": "code",
   "execution_count": 23,
   "metadata": {},
   "outputs": [
    {
     "name": "stderr",
     "output_type": "stream",
     "text": [
      "100%|████████████████████████████████████████████████████████████████████████████| 10144/10144 [04:14<00:00, 39.82it/s]\n"
     ]
    },
    {
     "ename": "MemoryError",
     "evalue": "Unable to allocate 11.6 GiB for an array with shape (10144, 256, 1600, 3) and data type uint8",
     "output_type": "error",
     "traceback": [
      "\u001b[1;31m---------------------------------------------------------------------------\u001b[0m",
      "\u001b[1;31mMemoryError\u001b[0m                               Traceback (most recent call last)",
      "\u001b[1;32m<ipython-input-23-d98c9f0a30dd>\u001b[0m in \u001b[0;36m<module>\u001b[1;34m\u001b[0m\n\u001b[1;32m----> 1\u001b[1;33m \u001b[0mX\u001b[0m \u001b[1;33m,\u001b[0m \u001b[0my\u001b[0m \u001b[1;33m=\u001b[0m \u001b[0mread_images_to_array\u001b[0m\u001b[1;33m(\u001b[0m\u001b[0mtrain_path_base\u001b[0m\u001b[1;33m,\u001b[0m\u001b[0mtrain_im_files\u001b[0m\u001b[1;33m,\u001b[0m\u001b[0mtest_im_files\u001b[0m\u001b[1;33m,\u001b[0m\u001b[0mdefect_list\u001b[0m\u001b[1;33m)\u001b[0m\u001b[1;33m\u001b[0m\u001b[1;33m\u001b[0m\u001b[0m\n\u001b[0m",
      "\u001b[1;32m<ipython-input-22-937918e7fbec>\u001b[0m in \u001b[0;36mread_images_to_array\u001b[1;34m(im_path_bone, train_list, val_list, defect_list)\u001b[0m\n\u001b[0;32m      7\u001b[0m         \u001b[0mx1_y\u001b[0m\u001b[1;33m.\u001b[0m\u001b[0mappend\u001b[0m\u001b[1;33m(\u001b[0m\u001b[1;36m1\u001b[0m\u001b[1;33m)\u001b[0m \u001b[1;32mif\u001b[0m \u001b[0mfname\u001b[0m \u001b[1;32min\u001b[0m \u001b[0mdefect_list\u001b[0m \u001b[1;32melse\u001b[0m \u001b[0mx1_y\u001b[0m\u001b[1;33m.\u001b[0m\u001b[0mappend\u001b[0m\u001b[1;33m(\u001b[0m\u001b[1;36m0\u001b[0m\u001b[1;33m)\u001b[0m\u001b[1;33m\u001b[0m\u001b[1;33m\u001b[0m\u001b[0m\n\u001b[0;32m      8\u001b[0m         \u001b[0mX1\u001b[0m\u001b[1;33m.\u001b[0m\u001b[0mappend\u001b[0m\u001b[1;33m(\u001b[0m\u001b[0mnp\u001b[0m\u001b[1;33m.\u001b[0m\u001b[0marray\u001b[0m\u001b[1;33m(\u001b[0m\u001b[0mPIL\u001b[0m\u001b[1;33m.\u001b[0m\u001b[0mImage\u001b[0m\u001b[1;33m.\u001b[0m\u001b[0mopen\u001b[0m\u001b[1;33m(\u001b[0m\u001b[0mos\u001b[0m\u001b[1;33m.\u001b[0m\u001b[0mpath\u001b[0m\u001b[1;33m.\u001b[0m\u001b[0mjoin\u001b[0m\u001b[1;33m(\u001b[0m\u001b[0mim_path_train\u001b[0m\u001b[1;33m,\u001b[0m\u001b[0mfname\u001b[0m\u001b[1;33m)\u001b[0m\u001b[1;33m)\u001b[0m\u001b[1;33m)\u001b[0m\u001b[1;33m)\u001b[0m\u001b[1;33m\u001b[0m\u001b[1;33m\u001b[0m\u001b[0m\n\u001b[1;32m----> 9\u001b[1;33m     \u001b[0mX1\u001b[0m \u001b[1;33m=\u001b[0m \u001b[0mnp\u001b[0m\u001b[1;33m.\u001b[0m\u001b[0marray\u001b[0m\u001b[1;33m(\u001b[0m\u001b[0mX1\u001b[0m\u001b[1;33m,\u001b[0m\u001b[0mdtype\u001b[0m\u001b[1;33m=\u001b[0m\u001b[1;34m'uint8'\u001b[0m\u001b[1;33m)\u001b[0m\u001b[1;33m\u001b[0m\u001b[1;33m\u001b[0m\u001b[0m\n\u001b[0m\u001b[0;32m     10\u001b[0m \u001b[1;33m\u001b[0m\u001b[0m\n\u001b[0;32m     11\u001b[0m \u001b[1;33m\u001b[0m\u001b[0m\n",
      "\u001b[1;31mMemoryError\u001b[0m: Unable to allocate 11.6 GiB for an array with shape (10144, 256, 1600, 3) and data type uint8"
     ]
    }
   ],
   "source": [
    "X , y = read_images_to_array(train_path_base,train_im_files,test_im_files,defect_list)"
   ]
  }
 ],
 "metadata": {
  "kernelspec": {
   "display_name": "Python 3",
   "language": "python",
   "name": "python3"
  },
  "language_info": {
   "codemirror_mode": {
    "name": "ipython",
    "version": 3
   },
   "file_extension": ".py",
   "mimetype": "text/x-python",
   "name": "python",
   "nbconvert_exporter": "python",
   "pygments_lexer": "ipython3",
   "version": "3.8.3"
  }
 },
 "nbformat": 4,
 "nbformat_minor": 4
}
